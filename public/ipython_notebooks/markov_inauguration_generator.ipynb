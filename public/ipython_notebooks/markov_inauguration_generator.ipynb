{
 "cells": [
  {
   "cell_type": "markdown",
   "metadata": {},
   "source": [
    "# Markov Chain Inauguration Address generator "
   ]
  },
  {
   "cell_type": "markdown",
   "metadata": {},
   "source": [
    "To play around with text synthesis, I used the Natural Language Toolkit (nltk) library to generate an Inauguration Address. It works just about as well as you might imagine, its terrible. But it was pretty fun seeing what it came up with.\n",
    "\n",
    "The general method used here was something along the lines of a markov chain. At each state, we transition to the next with a probability that we have learned from training on the corpora. The random path that we take is used to form a sentence. \n",
    "\n",
    "The project is broken into two experiments. In the first the states are represented as words, and in the second the states are presentented by the word's part of speech tag (e.g noun, verb, etc.)."
   ]
  },
  {
   "cell_type": "markdown",
   "metadata": {},
   "source": [
    "## Part One - Words as states"
   ]
  },
  {
   "cell_type": "markdown",
   "metadata": {},
   "source": [
    "This way of representing the states is the most common in speech synthesis. Its also pretty simple. The idea is that we build an adjacency structure for each word (or group of words) so we know what should follow it."
   ]
  },
  {
   "cell_type": "code",
   "execution_count": 1,
   "metadata": {
    "collapsed": false
   },
   "outputs": [],
   "source": [
    "import numpy as np\n",
    "from textblob import TextBlob\n",
    "from nltk.corpus import inaugural\n",
    "from collections import defaultdict\n",
    "from IPython.core.display import HTML"
   ]
  },
  {
   "cell_type": "markdown",
   "metadata": {},
   "source": [
    "We'll use start/stop tags to simplify the code. By sticking these on the start and end, we don't have to worry about edge cases so much"
   ]
  },
  {
   "cell_type": "code",
   "execution_count": null,
   "metadata": {
    "collapsed": false
   },
   "outputs": [],
   "source": [
    "start_tag = 'START'\n",
    "end_tag   = 'STOP'"
   ]
  },
  {
   "cell_type": "markdown",
   "metadata": {},
   "source": [
    "The following function generates the word-adjacency structure for a given corpus and order. Order here translates to the order of our markov chain. If the order is 1, then we look at the previous word to determine the next. If the order is 2, we look at the previous 2 words to determine the next and so on.\n",
    "\n",
    "There is also a struct parameter that we can pass a list or a set. The importance of this choice will be explained later"
   ]
  },
  {
   "cell_type": "code",
   "execution_count": null,
   "metadata": {
    "collapsed": false
   },
   "outputs": [],
   "source": [
    "def generate_adjacency_map(corpus, order, struct=list):\n",
    "    adjacency_map = defaultdict(struct)    \n",
    "    for sentence in corpus.sents():        \n",
    "        # generate a list where the start and end are buffered by start and end tags.\n",
    "        words = ([start_tag] * order) + sentence + ([end_tag] * order)\n",
    "        \n",
    "        #slide over the list\n",
    "        #add each new word to the adjacency_map indexed by the preceding order-words\n",
    "        for i in range(0, len(sentence) + 1):\n",
    "            preceding_words = tuple([words[j] for j in range(i, i + order)])\n",
    "            word = words[i + order]\n",
    "            if struct is list:\n",
    "                adjacency_map[preceding_words].append(word)   \n",
    "            elif struct is set:\n",
    "                adjacency_map[preceding_words].add(word)  \n",
    "                \n",
    "    return adjacency_map         "
   ]
  },
  {
   "cell_type": "code",
   "execution_count": null,
   "metadata": {
    "collapsed": true
   },
   "outputs": [],
   "source": [
    "word_adjacency_list = generate_adjacency_map(corpus = inaugural, order = 2, struct=list)\n",
    "word_adjacency_set = generate_adjacency_map(corpus = inaugural, order = 2, struct=set)"
   ]
  },
  {
   "cell_type": "markdown",
   "metadata": {},
   "source": [
    "Of course both structures contain the same number of unique elements, but in a set all unique words have equal probability to be picked at random. In a list, the more frequest the word, the more times it is expected to be picked at random. "
   ]
  },
  {
   "cell_type": "code",
   "execution_count": null,
   "metadata": {
    "collapsed": true
   },
   "outputs": [],
   "source": [
    "print 'set : mean word adjacencies -', np.mean(map(len, word_adjacency_set.values()))\n",
    "print 'list: mean word adjacencies -', np.mean(map(len, word_adjacency_list.values()))"
   ]
  },
  {
   "cell_type": "markdown",
   "metadata": {},
   "source": [
    "The following function takes the adjacency structure and builds a random sentence out of it."
   ]
  },
  {
   "cell_type": "code",
   "execution_count": null,
   "metadata": {
    "collapsed": false
   },
   "outputs": [],
   "source": [
    "def build_sentence(adjacency_map, order, max_len=50):\n",
    "    sentence = []\n",
    "    next_word = ''    \n",
    "    state = tuple([start_tag] * order)    \n",
    "    while next_word != end_tag and len(sentence) < max_len:\n",
    "        sentence.append(next_word)\n",
    "        next_word = np.random.choice(list(adjacency_map[state]))\n",
    "        state = state[1:] + (next_word,)\n",
    "    return ' '.join(sentence)    "
   ]
  },
  {
   "cell_type": "code",
   "execution_count": null,
   "metadata": {
    "collapsed": false
   },
   "outputs": [],
   "source": [
    "sentence = build_sentence(word_adjacency_list, order=2)\n",
    "sentence"
   ]
  },
  {
   "cell_type": "markdown",
   "metadata": {},
   "source": [
    "## Part Two - Word tags as states"
   ]
  },
  {
   "cell_type": "markdown",
   "metadata": {},
   "source": [
    "At this point, I had an idea. I could use the [TextBlob library](https://textblob.readthedocs.org/en/dev/) to tag the words and use that as the markov state instead. \n",
    "\n",
    "For each part of speech tag, I saved the assosiated bag of words, and built an adjacency structure similarly to what I did for words"
   ]
  },
  {
   "cell_type": "code",
   "execution_count": null,
   "metadata": {
    "collapsed": false
   },
   "outputs": [],
   "source": [
    "def generate_tag_adjacencies(corpus, order, struct=list):\n",
    "        \n",
    "    adjacency_map = defaultdict(struct)\n",
    "    tag_word_bags = defaultdict(struct, {end_tag : ['.']})\n",
    "\n",
    "    for sentence in corpus.sents(): \n",
    "        tagged_sent = TextBlob(' '.join(sentence)).tags    \n",
    "        \n",
    "        #add tagged words to the relevent tag bag\n",
    "        for word, tag in tagged_sent:\n",
    "            if struct is list:                \n",
    "                tag_word_bags[tag].append(word)\n",
    "            elif struct is set:\n",
    "                tag_word_bags[tag].add(word)\n",
    "\n",
    "        #build tag adjacency map similarly to the word-based one\n",
    "        tags = ([start_tag] * order) + map(lambda tup: tup[1], tagged_sent) + ([end_tag] * order)\n",
    "\n",
    "        for i in range(0, len(tagged_sent) + 1):\n",
    "            index = tuple([tags[j] for j in range(i, i + order)])\n",
    "            tag = tags[i + order]\n",
    "            if struct is list:                \n",
    "                adjacency_map[index].append(tag)\n",
    "            elif struct is set:\n",
    "                adjacency_map[index].add(tag)\n",
    "            \n",
    "    return adjacency_map, tag_word_bags"
   ]
  },
  {
   "cell_type": "code",
   "execution_count": null,
   "metadata": {
    "collapsed": false
   },
   "outputs": [],
   "source": [
    "tag_adjacency_list, tag_bags_list = generate_tag_adjacencies(corpus = inaugural, order = 2, struct=list)\n",
    "tag_adjacency_set, tag_bags_set = generate_tag_adjacencies(corpus = inaugural, order = 2, struct=set)"
   ]
  },
  {
   "cell_type": "markdown",
   "metadata": {},
   "source": [
    "In this case, the list/set difference makes a significant difference."
   ]
  },
  {
   "cell_type": "code",
   "execution_count": null,
   "metadata": {
    "collapsed": false
   },
   "outputs": [],
   "source": [
    "print 'list: mean tag adjacencies -', np.mean(map(len, tag_adjacency_list.values())), ', mean word bag size -', np.mean(map(len, tag_bags_list.values()))\n",
    "print 'set : mean tag adjacencies -', np.mean(map(len, tag_adjacency_set.values())), ', mean word bag size -', np.mean(map(len, tag_bags_set.values()))"
   ]
  },
  {
   "cell_type": "markdown",
   "metadata": {},
   "source": [
    "This means that if we choose to use a set as the datastructure, our resulting sentences will feel much more random."
   ]
  },
  {
   "cell_type": "markdown",
   "metadata": {},
   "source": [
    "Next we build a sentence using the above structures similarly to before. But now the word we want to add to the sentence and what state we are entering are separate concepts."
   ]
  },
  {
   "cell_type": "code",
   "execution_count": null,
   "metadata": {
    "collapsed": false
   },
   "outputs": [],
   "source": [
    "def build_tag_sentence(adjacency_map, tag_word_bags, order, max_len=50):\n",
    "    sentence = []\n",
    "    next_tag = None\n",
    "    state = tuple([start_tag] * order)\n",
    "    while next_tag != end_tag and len(sentence) < max_len:\n",
    "        next_tag = np.random.choice(list(adjacency_map[state]))\n",
    "        next_word = np.random.choice(list(tag_word_bags[next_tag]))\n",
    "        state = state[1:] + (next_tag,)\n",
    "        sentence.append(next_word)        \n",
    "    return ' '.join(sentence)    "
   ]
  },
  {
   "cell_type": "code",
   "execution_count": null,
   "metadata": {
    "collapsed": false
   },
   "outputs": [],
   "source": [
    "sentence = build_tag_sentence(tag_adjacency_list, tag_bags_list, order = 2)\n",
    "sentence"
   ]
  },
  {
   "cell_type": "markdown",
   "metadata": {},
   "source": [
    "## Results"
   ]
  },
  {
   "cell_type": "markdown",
   "metadata": {},
   "source": [
    "Finally, we put together a bunch of sentences to make our Inaugural Address."
   ]
  },
  {
   "cell_type": "code",
   "execution_count": null,
   "metadata": {
    "collapsed": false
   },
   "outputs": [],
   "source": [
    "def output(sents):\n",
    "    return HTML('<p>' + ('</p><p>'.join(sents)) + '</p>')"
   ]
  },
  {
   "cell_type": "code",
   "execution_count": null,
   "metadata": {
    "collapsed": false
   },
   "outputs": [],
   "source": [
    "output([build_sentence(word_adjacency_list, order=2) for i in range(10)])"
   ]
  },
  {
   "cell_type": "code",
   "execution_count": null,
   "metadata": {
    "collapsed": false
   },
   "outputs": [],
   "source": [
    "output([build_tag_sentence(tag_adjacency_list, tag_bags_list, order = 2) for i in range(10)])"
   ]
  },
  {
   "cell_type": "markdown",
   "metadata": {},
   "source": [
    "## Conclusions"
   ]
  },
  {
   "cell_type": "markdown",
   "metadata": {},
   "source": [
    "As you might have expected, its just a nonsense generator. Increasing the order can reduce the nonsense-rating, but on a corpus as small as this, it ends up regurgitating entire sentences.\n",
    "\n",
    "The tag method seems to be even worse than the word-based method, but maybe you could combine them somehow to improve the result.\n",
    "\n",
    "[Download IPython Notebook](/public/ipython_notebooks/inauguration_generator.ipynb)"
   ]
  }
 ],
 "metadata": {
  "kernelspec": {
   "display_name": "Python 2",
   "language": "python",
   "name": "python2"
  },
  "language_info": {
   "codemirror_mode": {
    "name": "ipython",
    "version": 2
   },
   "file_extension": ".py",
   "mimetype": "text/x-python",
   "name": "python",
   "nbconvert_exporter": "python",
   "pygments_lexer": "ipython2",
   "version": "2.7.11"
  }
 },
 "nbformat": 4,
 "nbformat_minor": 0
}
